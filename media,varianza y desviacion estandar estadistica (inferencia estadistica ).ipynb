{
 "cells": [
  {
   "cell_type": "code",
   "execution_count": 55,
   "metadata": {},
   "outputs": [
    {
     "name": "stdout",
     "output_type": "stream",
     "text": [
      "Arreglo[18, 15, 18, 16, 15, 16, 16, 21, 21, 21, 15, 19, 19, 15, 16, 18, 21, 19, 21, 19]\n",
      "Media=17.95\n",
      "varianza=0.00012500000000000355\n",
      "desviacion estandar= 0.011180339887499108\n"
     ]
    }
   ],
   "source": [
    "import random\n",
    "import math \n",
    "def media (X):\n",
    "    return sum(X)/ len(X) \n",
    "def varianza(X):\n",
    "    mu=media(X)\n",
    "    acumulador=0 #1/n\n",
    "    for x in X :\n",
    "        acumulador += (x-mu)**2\n",
    "        return acumulador/ len(X)\n",
    "def desviacion_estandar (X):\n",
    "        return math.sqrt(varianza(X))\n",
    "    \n",
    "if __name__=='__main__': #se ejecuta el archivo pero main va  ajenerar archivo  para \n",
    "    X=[random.randint(15,21)for i in range (20)]\n",
    "    mu=media(X)\n",
    "    Var=varianza(X)\n",
    "    sigma=desviacion_estandar(X)\n",
    " \n",
    "    \n",
    "    print(f'Arreglo{X}')\n",
    "    print(f'Media={mu}')\n",
    "    print (f'varianza={Var}')\n",
    "    print(f'desviacion estandar= {sigma}')\n",
    "   \n"
   ]
  },
  {
   "cell_type": "code",
   "execution_count": 48,
   "metadata": {},
   "outputs": [
    {
     "name": "stdout",
     "output_type": "stream",
     "text": [
      "Arreglo X: [12, 12, 9, 10, 10, 12, 10, 9, 11, 11, 11, 11, 12, 9, 9, 9, 9, 12, 11, 12]\n",
      "Media = 10.55\n",
      "Varianza = 1.4475000000000002\n",
      "Desviacion estandar = 1.2031209415515967\n"
     ]
    }
   ],
   "source": [
    "import random\n",
    "import math\n",
    "\n",
    "def media(X):\n",
    "    return sum(X) / len(X)\n",
    "\n",
    "\n",
    "def varianza(X):\n",
    "    mu = media(X)\n",
    "\n",
    "    acumulador = 0\n",
    "    for x in X:\n",
    "        acumulador += (x - mu)**2\n",
    "\n",
    "    return acumulador / len(X)\n",
    "\n",
    "\n",
    "def desviacion_estandar(X):\n",
    "    return math.sqrt(varianza(X))\n",
    "\n",
    "\n",
    "if __name__ == '__main__':\n",
    "    X = [random.randint(9, 12) for i in range(20)]\n",
    "    mu = media(X)\n",
    "    Var = varianza(X)\n",
    "    sigma = desviacion_estandar(X)\n",
    "\n",
    "    print(f'Arreglo X: {X}')\n",
    "    print(f'Media = {mu}')\n",
    "    print(f'Varianza = {Var}')\n",
    "    print(f'Desviacion estandar = {sigma}')"
   ]
  },
  {
   "cell_type": "code",
   "execution_count": null,
   "metadata": {},
   "outputs": [],
   "source": []
  }
 ],
 "metadata": {
  "kernelspec": {
   "display_name": "Python 3",
   "language": "python",
   "name": "python3"
  },
  "language_info": {
   "codemirror_mode": {
    "name": "ipython",
    "version": 3
   },
   "file_extension": ".py",
   "mimetype": "text/x-python",
   "name": "python",
   "nbconvert_exporter": "python",
   "pygments_lexer": "ipython3",
   "version": "3.7.3"
  }
 },
 "nbformat": 4,
 "nbformat_minor": 2
}
